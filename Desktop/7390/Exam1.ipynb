{
 "cells": [
  {
   "cell_type": "markdown",
   "metadata": {},
   "source": [
    "INFO 7390\n",
    "\n",
    "Advances in Data Sciences and Architecture\n",
    "\n",
    "Exam 1\n",
    "\n",
    "Student Name: Chung-Yang Li\n",
    "\n",
    "Professor: Nik Bear Brown\n",
    "\n",
    "Due: Sunday July 22, 2018\n"
   ]
  },
  {
   "cell_type": "markdown",
   "metadata": {},
   "source": [
    "Q1 (20 Points) The stock market is often modeled as a normal distribution; but is closer to a Weibull\n",
    "distribution. How does a normal distribution differ from a Weibull distribution?\n",
    "Plot a normal distribution with mean 700 and standard deviation 100. What is the probability of a value being greater than 900?\n",
    "Use a 2-parameter Weibull distribution to approximate a normal distribution (i.e. find a shape\n",
    "parameter that has a “bell shape” and a scale parameter to is close the normal above.)\n",
    "See\n",
    "https://www.johndcook.com/blog/distributions_scipy/\n",
    "http://www.niar.wichita.edu/coe/NCAMP_Documents/Publications/NCAMP_Techincal_Presentations/D\n",
    "istribution_for_small_sample_sizes_and_fatigue_data.pdf\n",
    "https://stackoverflow.com/questions/17481672/fitting-a-weibull-distribution-using-scipy\n",
    "http://faculty.washington.edu/fscholz/DATAFILES498B2008/WeibullBounds.pdf\n",
    "Plot a normal distribution with mean 700 and standard deviation 100 in the same graph as its Weibull\n",
    "approximation. What is the probability of a value being greater than 900 using the Weibull\n",
    "approximation?\n",
    "\n",
    "Weibull distribution is very flexible, and normal distribution does not vary in shape"
   ]
  },
  {
   "cell_type": "code",
   "execution_count": 2,
   "metadata": {},
   "outputs": [
    {
     "name": "stderr",
     "output_type": "stream",
     "text": [
      "C:\\Users\\t0912\\Anaconda3\\lib\\site-packages\\matplotlib\\axes\\_axes.py:6462: UserWarning: The 'normed' kwarg is deprecated, and has been replaced by the 'density' kwarg.\n",
      "  warnings.warn(\"The 'normed' kwarg is deprecated, and has been \"\n"
     ]
    },
    {
     "data": {
      "text/plain": [
       "<matplotlib.legend.Legend at 0x227c6beacf8>"
      ]
     },
     "execution_count": 2,
     "metadata": {},
     "output_type": "execute_result"
    },
    {
     "data": {
      "image/png": "[encoded data removed]",
      "text/plain": [
       "<Figure size 432x288 with 1 Axes>"
      ]
     },
     "metadata": {},
     "output_type": "display_data"
    }
   ],
   "source": [
    "%matplotlib inline\n",
    "\n",
    "import numpy as np\n",
    "import matplotlib.pyplot as plt\n",
    "import scipy.stats as st\n",
    "from scipy import stats\n",
    "from scipy.stats import norm\n",
    "\n",
    "u, std = 700, 100 # mean and standard deviation\n",
    "\n",
    "x_axis = np.arange(200, 1200, 0.01)\n",
    "plt.plot(x_axis, norm.pdf(x_axis, u, std), label='norm')\n",
    "\n",
    "data = np.random.normal(u, std, 1000)\n",
    "\n",
    "# Fit Weibull function, some explanation below\n",
    "params = stats.exponweib.fit(data, floc=0, f0=1)\n",
    "shape = params[1]\n",
    "scale = params[3]\n",
    "\n",
    "#### Plotting\n",
    "# Histogram first\n",
    "values,bins,hist = plt.hist(data,bins=50,range=(200,1400),normed=True)\n",
    "center = (bins[:-1] + bins[1:]) / 2.\n",
    "\n",
    "# Using all params and the stats function\n",
    "plt.plot(center,stats.exponweib.pdf(center,*params),lw=4,label='exponweib')\n",
    "\n",
    "# Using Weibull function as a check\n",
    "def weibull(u,shape,scale):\n",
    "    '''Weibull distribution with shape parameter k and scale parameter A'''\n",
    "    return (shape / scale) * (u / scale)**(shape-1) * np.exp(-(u/scale)**shape)\n",
    "\n",
    "plt.plot(center,weibull(center,shape,scale),label='weibull',lw=1)\n",
    "plt.legend()\n",
    "\n",
    "# print(stats.exponweib.cdf(center,*params)[30])"
   ]
  },
  {
   "cell_type": "code",
   "execution_count": 21,
   "metadata": {},
   "outputs": [
    {
     "name": "stdout",
     "output_type": "stream",
     "text": [
      "P(Z>900) = 0.02275013194817921\n"
     ]
    }
   ],
   "source": [
    "def zscore (x,u,std):\n",
    "    return (x-u)/std\n",
    "\n",
    "print('P(Z>900) =', 1-st.norm.cdf(zscore(900,700,100)))"
   ]
  },
  {
   "cell_type": "code",
   "execution_count": 26,
   "metadata": {
    "scrolled": true
   },
   "outputs": [
    {
     "name": "stdout",
     "output_type": "stream",
     "text": [
      "P(Z>900) = 0.015297315335914385\n"
     ]
    }
   ],
   "source": [
    "print('P(Z>900) =',stats.exponweib.sf(900,*params))"
   ]
  },
  {
   "cell_type": "markdown",
   "metadata": {},
   "source": [
    "Q2 (20 Points) What is a hypothesis test? What is meant by the null hypothesis and alternative\n",
    "hypothesis?\n",
    "How does a z-test differ from a t-test?\n",
    "Create an example problem using a hypothesis test. It MUST use data that you used in assignment 1, 2\n",
    "or 3.\n",
    "Show how to solve the problem with hand calculations.\n",
    "Show how to solve the problem with python code.\n",
    "\n",
    "1. \n",
    "Null hypothesis (H0)\n",
    "\n",
    "The null hypothesis states that a population parameter (such as the mean, the standard deviation, and so on) is equal to a hypothesized value. The null hypothesis is often an initial claim that is based on previous analyses or specialized knowledge.\n",
    "Alternative Hypothesis (H1)\n",
    "\n",
    "The alternative hypothesis states that a population parameter is smaller, greater, or different than the hypothesized value in the null hypothesis. The alternative hypothesis is what you might believe to be true or hope to prove true.\n",
    "\n",
    "Z-test variance is given and T-TEST not.\n",
    "\n",
    "Reference:\n",
    "\n",
    "https://support.minitab.com/en-us/minitab/18/help-and-how-to/statistics/basic-statistics/supporting-topics/basics/null-and-alternative-hypotheses/\n",
    "\n",
    "https://keydifferences.com/difference-between-t-test-and-z-test.html"
   ]
  },
  {
   "cell_type": "code",
   "execution_count": 1,
   "metadata": {},
   "outputs": [
    {
     "data": {
      "text/html": [
       "<div>\n",
       "<style scoped>\n",
       "    .dataframe tbody tr th:only-of-type {\n",
       "        vertical-align: middle;\n",
       "    }\n",
       "\n",
       "    .dataframe tbody tr th {\n",
       "        vertical-align: top;\n",
       "    }\n",
       "\n",
       "    .dataframe thead th {\n",
       "        text-align: right;\n",
       "    }\n",
       "</style>\n",
       "<table border=\"1\" class=\"dataframe\">\n",
       "  <thead>\n",
       "    <tr style=\"text-align: right;\">\n",
       "      <th></th>\n",
       "      <th>gameDuration</th>\n",
       "      <th>winner</th>\n",
       "      <th>firstBlood</th>\n",
       "      <th>firstTower</th>\n",
       "      <th>firstInhibitor</th>\n",
       "      <th>firstBaron</th>\n",
       "      <th>firstDragon</th>\n",
       "      <th>firstRiftHerald</th>\n",
       "      <th>t1_towerKills</th>\n",
       "      <th>t1_inhibitorKills</th>\n",
       "      <th>t1_baronKills</th>\n",
       "      <th>t1_dragonKills</th>\n",
       "      <th>t1_riftHeraldKills</th>\n",
       "      <th>t2_towerKills</th>\n",
       "      <th>t2_inhibitorKills</th>\n",
       "      <th>t2_baronKills</th>\n",
       "      <th>t2_dragonKills</th>\n",
       "      <th>t2_riftHeraldKills</th>\n",
       "    </tr>\n",
       "  </thead>\n",
       "  <tbody>\n",
       "    <tr>\n",
       "      <th>count</th>\n",
       "      <td>4416.000000</td>\n",
       "      <td>4416.000000</td>\n",
       "      <td>4416.000000</td>\n",
       "      <td>4416.000000</td>\n",
       "      <td>4416.000000</td>\n",
       "      <td>4416.000000</td>\n",
       "      <td>4416.000000</td>\n",
       "      <td>4416.000000</td>\n",
       "      <td>4416.000000</td>\n",
       "      <td>4416.000000</td>\n",
       "      <td>4416.000000</td>\n",
       "      <td>4416.000000</td>\n",
       "      <td>4416.000000</td>\n",
       "      <td>4416.000000</td>\n",
       "      <td>4416.000000</td>\n",
       "      <td>4416.000000</td>\n",
       "      <td>4416.000000</td>\n",
       "      <td>4416.000000</td>\n",
       "    </tr>\n",
       "    <tr>\n",
       "      <th>mean</th>\n",
       "      <td>1928.576993</td>\n",
       "      <td>1.500453</td>\n",
       "      <td>1.482337</td>\n",
       "      <td>1.486866</td>\n",
       "      <td>1.499774</td>\n",
       "      <td>1.041893</td>\n",
       "      <td>1.489357</td>\n",
       "      <td>0.776721</td>\n",
       "      <td>6.152853</td>\n",
       "      <td>1.149683</td>\n",
       "      <td>0.415534</td>\n",
       "      <td>1.468297</td>\n",
       "      <td>0.269928</td>\n",
       "      <td>6.004303</td>\n",
       "      <td>1.141304</td>\n",
       "      <td>0.475770</td>\n",
       "      <td>1.517889</td>\n",
       "      <td>0.253397</td>\n",
       "    </tr>\n",
       "    <tr>\n",
       "      <th>std</th>\n",
       "      <td>425.662041</td>\n",
       "      <td>0.500056</td>\n",
       "      <td>0.499745</td>\n",
       "      <td>0.499884</td>\n",
       "      <td>0.500057</td>\n",
       "      <td>0.826959</td>\n",
       "      <td>0.519059</td>\n",
       "      <td>0.824847</td>\n",
       "      <td>3.724177</td>\n",
       "      <td>1.301803</td>\n",
       "      <td>0.612903</td>\n",
       "      <td>1.216121</td>\n",
       "      <td>0.443972</td>\n",
       "      <td>3.828454</td>\n",
       "      <td>1.300738</td>\n",
       "      <td>0.634852</td>\n",
       "      <td>1.229552</td>\n",
       "      <td>0.435005</td>\n",
       "    </tr>\n",
       "    <tr>\n",
       "      <th>min</th>\n",
       "      <td>613.000000</td>\n",
       "      <td>1.000000</td>\n",
       "      <td>1.000000</td>\n",
       "      <td>1.000000</td>\n",
       "      <td>1.000000</td>\n",
       "      <td>0.000000</td>\n",
       "      <td>0.000000</td>\n",
       "      <td>0.000000</td>\n",
       "      <td>0.000000</td>\n",
       "      <td>0.000000</td>\n",
       "      <td>0.000000</td>\n",
       "      <td>0.000000</td>\n",
       "      <td>0.000000</td>\n",
       "      <td>0.000000</td>\n",
       "      <td>0.000000</td>\n",
       "      <td>0.000000</td>\n",
       "      <td>0.000000</td>\n",
       "      <td>0.000000</td>\n",
       "    </tr>\n",
       "    <tr>\n",
       "      <th>25%</th>\n",
       "      <td>1628.000000</td>\n",
       "      <td>1.000000</td>\n",
       "      <td>1.000000</td>\n",
       "      <td>1.000000</td>\n",
       "      <td>1.000000</td>\n",
       "      <td>0.000000</td>\n",
       "      <td>1.000000</td>\n",
       "      <td>0.000000</td>\n",
       "      <td>3.000000</td>\n",
       "      <td>0.000000</td>\n",
       "      <td>0.000000</td>\n",
       "      <td>0.000000</td>\n",
       "      <td>0.000000</td>\n",
       "      <td>2.000000</td>\n",
       "      <td>0.000000</td>\n",
       "      <td>0.000000</td>\n",
       "      <td>0.000000</td>\n",
       "      <td>0.000000</td>\n",
       "    </tr>\n",
       "    <tr>\n",
       "      <th>50%</th>\n",
       "      <td>1895.000000</td>\n",
       "      <td>2.000000</td>\n",
       "      <td>1.000000</td>\n",
       "      <td>1.000000</td>\n",
       "      <td>1.000000</td>\n",
       "      <td>1.000000</td>\n",
       "      <td>1.000000</td>\n",
       "      <td>1.000000</td>\n",
       "      <td>7.000000</td>\n",
       "      <td>1.000000</td>\n",
       "      <td>0.000000</td>\n",
       "      <td>1.000000</td>\n",
       "      <td>0.000000</td>\n",
       "      <td>7.000000</td>\n",
       "      <td>1.000000</td>\n",
       "      <td>0.000000</td>\n",
       "      <td>1.000000</td>\n",
       "      <td>0.000000</td>\n",
       "    </tr>\n",
       "    <tr>\n",
       "      <th>75%</th>\n",
       "      <td>2203.000000</td>\n",
       "      <td>2.000000</td>\n",
       "      <td>2.000000</td>\n",
       "      <td>2.000000</td>\n",
       "      <td>2.000000</td>\n",
       "      <td>2.000000</td>\n",
       "      <td>2.000000</td>\n",
       "      <td>2.000000</td>\n",
       "      <td>10.000000</td>\n",
       "      <td>2.000000</td>\n",
       "      <td>1.000000</td>\n",
       "      <td>2.000000</td>\n",
       "      <td>1.000000</td>\n",
       "      <td>9.000000</td>\n",
       "      <td>2.000000</td>\n",
       "      <td>1.000000</td>\n",
       "      <td>2.000000</td>\n",
       "      <td>1.000000</td>\n",
       "    </tr>\n",
       "    <tr>\n",
       "      <th>max</th>\n",
       "      <td>3933.000000</td>\n",
       "      <td>2.000000</td>\n",
       "      <td>2.000000</td>\n",
       "      <td>2.000000</td>\n",
       "      <td>2.000000</td>\n",
       "      <td>2.000000</td>\n",
       "      <td>2.000000</td>\n",
       "      <td>2.000000</td>\n",
       "      <td>11.000000</td>\n",
       "      <td>9.000000</td>\n",
       "      <td>4.000000</td>\n",
       "      <td>6.000000</td>\n",
       "      <td>1.000000</td>\n",
       "      <td>11.000000</td>\n",
       "      <td>10.000000</td>\n",
       "      <td>3.000000</td>\n",
       "      <td>6.000000</td>\n",
       "      <td>1.000000</td>\n",
       "    </tr>\n",
       "  </tbody>\n",
       "</table>\n",
       "</div>"
      ],
      "text/plain": [
       "       gameDuration       winner   firstBlood   firstTower  firstInhibitor  \\\n",
       "count   4416.000000  4416.000000  4416.000000  4416.000000     4416.000000   \n",
       "mean    1928.576993     1.500453     1.482337     1.486866        1.499774   \n",
       "std      425.662041     0.500056     0.499745     0.499884        0.500057   \n",
       "min      613.000000     1.000000     1.000000     1.000000        1.000000   \n",
       "25%     1628.000000     1.000000     1.000000     1.000000        1.000000   \n",
       "50%     1895.000000     2.000000     1.000000     1.000000        1.000000   \n",
       "75%     2203.000000     2.000000     2.000000     2.000000        2.000000   \n",
       "max     3933.000000     2.000000     2.000000     2.000000        2.000000   \n",
       "\n",
       "        firstBaron  firstDragon  firstRiftHerald  t1_towerKills  \\\n",
       "count  4416.000000  4416.000000      4416.000000    4416.000000   \n",
       "mean      1.041893     1.489357         0.776721       6.152853   \n",
       "std       0.826959     0.519059         0.824847       3.724177   \n",
       "min       0.000000     0.000000         0.000000       0.000000   \n",
       "25%       0.000000     1.000000         0.000000       3.000000   \n",
       "50%       1.000000     1.000000         1.000000       7.000000   \n",
       "75%       2.000000     2.000000         2.000000      10.000000   \n",
       "max       2.000000     2.000000         2.000000      11.000000   \n",
       "\n",
       "       t1_inhibitorKills  t1_baronKills  t1_dragonKills  t1_riftHeraldKills  \\\n",
       "count        4416.000000    4416.000000     4416.000000         4416.000000   \n",
       "mean            1.149683       0.415534        1.468297            0.269928   \n",
       "std             1.301803       0.612903        1.216121            0.443972   \n",
       "min             0.000000       0.000000        0.000000            0.000000   \n",
       "25%             0.000000       0.000000        0.000000            0.000000   \n",
       "50%             1.000000       0.000000        1.000000            0.000000   \n",
       "75%             2.000000       1.000000        2.000000            1.000000   \n",
       "max             9.000000       4.000000        6.000000            1.000000   \n",
       "\n",
       "       t2_towerKills  t2_inhibitorKills  t2_baronKills  t2_dragonKills  \\\n",
       "count    4416.000000        4416.000000    4416.000000     4416.000000   \n",
       "mean        6.004303           1.141304       0.475770        1.517889   \n",
       "std         3.828454           1.300738       0.634852        1.229552   \n",
       "min         0.000000           0.000000       0.000000        0.000000   \n",
       "25%         2.000000           0.000000       0.000000        0.000000   \n",
       "50%         7.000000           1.000000       0.000000        1.000000   \n",
       "75%         9.000000           2.000000       1.000000        2.000000   \n",
       "max        11.000000          10.000000       3.000000        6.000000   \n",
       "\n",
       "       t2_riftHeraldKills  \n",
       "count         4416.000000  \n",
       "mean             0.253397  \n",
       "std              0.435005  \n",
       "min              0.000000  \n",
       "25%              0.000000  \n",
       "50%              0.000000  \n",
       "75%              1.000000  \n",
       "max              1.000000  "
      ]
     },
     "execution_count": 1,
     "metadata": {},
     "output_type": "execute_result"
    }
   ],
   "source": [
    "import pandas as pd\n",
    "gamedata = pd.read_csv(r'C:\\Users\\t0912\\1 Jupyter\\Exam1\\gamedata')\n",
    "gamedata.drop(gamedata.columns[0], axis=1, inplace=True)\n",
    "gamedata.head()\n",
    "gamedata.describe()"
   ]
  },
  {
   "cell_type": "code",
   "execution_count": 116,
   "metadata": {},
   "outputs": [
    {
     "data": {
      "text/plain": [
       "count    4416.000000\n",
       "mean     1928.576993\n",
       "std       425.662041\n",
       "min       613.000000\n",
       "25%      1628.000000\n",
       "50%      1895.000000\n",
       "75%      2203.000000\n",
       "max      3933.000000\n",
       "Name: gameDuration, dtype: float64"
      ]
     },
     "execution_count": 116,
     "metadata": {},
     "output_type": "execute_result"
    }
   ],
   "source": [
    "gamedata.gameDuration.describe()"
   ]
  },
  {
   "cell_type": "code",
   "execution_count": 42,
   "metadata": {},
   "outputs": [
    {
     "name": "stdout",
     "output_type": "stream",
     "text": [
      "game usually last more than 1800 seconds\n",
      "H0 = 1800\n",
      "H1 < 1800\n"
     ]
    }
   ],
   "source": [
    "print('game usually last more than', 60*30, 'seconds')\n",
    "print('H0 =', 60*30)\n",
    "print('H1 <', 60*30)"
   ]
  },
  {
   "cell_type": "code",
   "execution_count": 45,
   "metadata": {},
   "outputs": [
    {
     "name": "stdout",
     "output_type": "stream",
     "text": [
      "P(Z>1800) = 0.6189852988283979\n"
     ]
    }
   ],
   "source": [
    "import math\n",
    "\n",
    "print('P(Z>1800) =', 1- st.norm.cdf(zscore(1800,1929,426)))"
   ]
  },
  {
   "cell_type": "markdown",
   "metadata": {},
   "source": [
    "Q3 (20 Points) Write an equation for linear regression. Explain how the error is dependent on either the dependent variables? What is the distribution of the error?\n",
    "\n",
    "1. Linear regression predicts the response variable $y$ assuming it has a linear relationship with predictor variable(s) $x$ or $x_1, x_2, ,,, x_n$.\n",
    "\n",
    "$$y = \\beta_0 + \\beta_1 x + \\varepsilon .$$\n",
    "\n",
    "2. statistical independence of the errors (in particular, no correlation between consecutive errors in the case of time series data).\n",
    "\n",
    "3. normality of the error distribution.\n",
    "\n",
    "Read to following page on GLMs https://onlinecourses.science.psu.edu/stat504/node/216/\n",
    "How does generalized linear model (GLM) relate to ordinary linear regression?\n",
    "What is the relationship between the linear predictor(s) and the mean of the response distribution\n",
    "function if one models ordinary linear regression as a GLM?\n",
    "Linear regression assumes that the error of the dependent variable is normally distributed. What would\n",
    "one do if it is not?\n",
    "\n",
    "1. A generalized linear model is a flexible generalization of ordinary linear regression models which allows for the response variables (dependent) to have error distribution other than normal distribution\n",
    "\n",
    "Use a GLM to create generalized linear model assuming the error of the dependent variable is normally\n",
    "distributed on the same data that you used in the linear regression assignment. How does it compare to\n",
    "the results in the linear regression assignment?\n",
    "Relationship between the dependent and independent variables need not be of the simple linear form.\n",
    "What would one do if it is not?\n",
    "What is regularization? Why does one use it? Can it be used with a GLM?\n",
    "\n",
    "Reference:\n",
    "\n",
    "https://github.com/nikbearbrown/INFO_7390/blob/master/Week_4/NBB_Linear_Regression.ipynb\n",
    "\n",
    "https://www.quora.com/What-is-the-difference-between-general-linear-models-and-generalized-linear-models"
   ]
  },
  {
   "cell_type": "code",
   "execution_count": 3,
   "metadata": {},
   "outputs": [
    {
     "name": "stdout",
     "output_type": "stream",
     "text": [
      "                 Generalized Linear Model Regression Results                  \n",
      "==============================================================================\n",
      "Dep. Variable:           gameDuration   No. Observations:                 4416\n",
      "Model:                            GLM   Df Residuals:                     4415\n",
      "Model Family:                   Gamma   Df Model:                            0\n",
      "Link Function:          inverse_power   Scale:                        0.048714\n",
      "Method:                          IRLS   Log-Likelihood:                -32931.\n",
      "Date:                Fri, 20 Jul 2018   Deviance:                       217.33\n",
      "Time:                        14:03:03   Pearson chi2:                     215.\n",
      "No. Iterations:                     6   Covariance Type:             nonrobust\n",
      "=====================================================================================\n",
      "                        coef    std err          z      P>|z|      [0.025      0.975]\n",
      "-------------------------------------------------------------------------------------\n",
      "t1_inhibitorKills     0.0005   1.72e-06    301.083      0.000       0.001       0.001\n",
      "=====================================================================================\n"
     ]
    },
    {
     "name": "stderr",
     "output_type": "stream",
     "text": [
      "C:\\Users\\t0912\\Anaconda3\\lib\\site-packages\\statsmodels\\genmod\\generalized_linear_model.py:302: DomainWarning: The inverse_power link function does not respect the domain of the Gamma family.\n",
      "  DomainWarning)\n"
     ]
    }
   ],
   "source": [
    "import statsmodels.api as sm\n",
    "\n",
    "gamedata.t1_inhibitorKills = sm.add_constant(gamedata.t1_inhibitorKills)\n",
    "\n",
    "# Instantiate a gamma family model with the default link function.\n",
    "gamma_model = sm.GLM(gamedata.gameDuration, gamedata.t1_inhibitorKills, family=sm.families.Gamma())\n",
    "\n",
    "gamma_results = gamma_model.fit()\n",
    "\n",
    "print(gamma_results.summary())"
   ]
  },
  {
   "cell_type": "markdown",
   "metadata": {},
   "source": [
    "Q4 (20 Points) Consider the supervised learning algorithms support vector machines, random forests\n",
    "and multilayer perceptrons.\n",
    "What are hyper-parameters?\n",
    "\n",
    "a hyperparameter is a parameter whose value is set before the learning process begins.\n",
    "\n",
    "What are the hyper-parameters for the algorithms: 1) support vector machines, 2) random forests and\n",
    "3) multilayer perceptrons?\n",
    "Using data, write python code to show the effect of hyper-parameters on each of these algorithms.\n",
    "\n",
    "in SVM, with higher C(penalty) help to have better accuracy score.\n",
    "in RF, with differnet n_estimators number, the result just show slightly different.\n",
    "in MLP, with learning rate 0.1 and 0.01 makes quite different result.\n",
    "\n",
    "Reference:\n",
    "\n",
    "https://en.wikipedia.org/wiki/Hyperparameter_(machine_learning)"
   ]
  },
  {
   "cell_type": "markdown",
   "metadata": {},
   "source": [
    "<h4>Support Vector Machines</h4>"
   ]
  },
  {
   "cell_type": "code",
   "execution_count": 46,
   "metadata": {},
   "outputs": [],
   "source": [
    "X = gamedata_oneside[['t1_inhibitorKills','t1_towerKills']]\n",
    "y = gamedata_oneside.winner\n",
    "\n",
    "X = X.values\n",
    "y = y.values"
   ]
  },
  {
   "cell_type": "code",
   "execution_count": 53,
   "metadata": {},
   "outputs": [],
   "source": [
    "from sklearn.model_selection import KFold, cross_val_score, train_test_split\n",
    "\n",
    "X_train, X_test, y_train, y_test = train_test_split(X, y, test_size= .3, random_state=0)"
   ]
  },
  {
   "cell_type": "code",
   "execution_count": 56,
   "metadata": {},
   "outputs": [
    {
     "name": "stderr",
     "output_type": "stream",
     "text": [
      "C:\\Users\\t0912\\Anaconda3\\lib\\site-packages\\sklearn\\utils\\validation.py:475: DataConversionWarning: Data with input dtype int64 was converted to float64 by StandardScaler.\n",
      "  warnings.warn(msg, DataConversionWarning)\n",
      "C:\\Users\\t0912\\Anaconda3\\lib\\site-packages\\sklearn\\utils\\validation.py:475: DataConversionWarning: Data with input dtype int64 was converted to float64 by StandardScaler.\n",
      "  warnings.warn(msg, DataConversionWarning)\n",
      "C:\\Users\\t0912\\Anaconda3\\lib\\site-packages\\sklearn\\utils\\validation.py:475: DataConversionWarning: Data with input dtype int64 was converted to float64 by StandardScaler.\n",
      "  warnings.warn(msg, DataConversionWarning)\n"
     ]
    }
   ],
   "source": [
    "from sklearn.preprocessing import StandardScaler\n",
    "sc = StandardScaler()\n",
    "sc.fit(X_train)\n",
    "X_train_std = sc.transform(X_train)\n",
    "X_test_std = sc.transform(X_test)"
   ]
  },
  {
   "cell_type": "code",
   "execution_count": 63,
   "metadata": {},
   "outputs": [
    {
     "data": {
      "text/plain": [
       "array([2, 2, 2, ..., 2, 1, 2], dtype=int64)"
      ]
     },
     "execution_count": 63,
     "metadata": {},
     "output_type": "execute_result"
    }
   ],
   "source": [
    "X_train_std\n",
    "y_train"
   ]
  },
  {
   "cell_type": "code",
   "execution_count": 85,
   "metadata": {},
   "outputs": [
    {
     "data": {
      "text/plain": [
       "SVC(C=1, cache_size=200, class_weight=None, coef0=0.0,\n",
       "  decision_function_shape='ovr', degree=3, gamma='auto', kernel='linear',\n",
       "  max_iter=-1, probability=True, random_state=None, shrinking=True,\n",
       "  tol=0.001, verbose=False)"
      ]
     },
     "execution_count": 85,
     "metadata": {},
     "output_type": "execute_result"
    }
   ],
   "source": [
    "from sklearn.svm import SVC\n",
    "svm = SVC(kernel = 'linear', probability = True, C = 1)#C = penalty\n",
    "svc = svm.fit(X_train_std, y_train)\n",
    "svc"
   ]
  },
  {
   "cell_type": "code",
   "execution_count": 65,
   "metadata": {},
   "outputs": [
    {
     "data": {
      "text/plain": [
       "array([1, 2, 2, ..., 2, 2, 1], dtype=int64)"
      ]
     },
     "execution_count": 65,
     "metadata": {},
     "output_type": "execute_result"
    }
   ],
   "source": [
    "svm.predict(X_test_std)"
   ]
  },
  {
   "cell_type": "code",
   "execution_count": 69,
   "metadata": {},
   "outputs": [
    {
     "data": {
      "image/png": "[encoded data removed]",
      "text/plain": [
       "<Figure size 432x288 with 1 Axes>"
      ]
     },
     "metadata": {},
     "output_type": "display_data"
    }
   ],
   "source": [
    "plot_decision_regions(X_train_std, y_train, clf = svm)\n",
    "plt.show()"
   ]
  },
  {
   "cell_type": "code",
   "execution_count": 73,
   "metadata": {},
   "outputs": [
    {
     "name": "stdout",
     "output_type": "stream",
     "text": [
      "KfoldCrossVal mean score using SVM is 0.9309303208462871\n",
      "Accuracy score using SVM is 0.9290566037735849\n"
     ]
    }
   ],
   "source": [
    "from sklearn import metrics\n",
    "\n",
    "print(\"KfoldCrossVal mean score using SVM is %s\" %cross_val_score(svc,X,y,cv=10).mean())\n",
    "#SVM metrics\n",
    "sm = svc.fit(X_train, y_train)\n",
    "y_pred = sm.predict(X_test)\n",
    "print(\"Accuracy score using SVM is %s\" %metrics.accuracy_score(y_test, y_pred))"
   ]
  },
  {
   "cell_type": "code",
   "execution_count": 97,
   "metadata": {},
   "outputs": [
    {
     "data": {
      "image/png": "[encoded data removed]",
      "text/plain": [
       "<Figure size 432x288 with 1 Axes>"
      ]
     },
     "metadata": {},
     "output_type": "display_data"
    }
   ],
   "source": [
    "svm2 = SVC(kernel = 'linear', probability = True, C = 10)#C = penalty\n",
    "svc2 = svm2.fit(X_train_std, y_train)\n",
    "\n",
    "plot_decision_regions(X_train_std, y_train, clf = svm2)\n",
    "plt.show()"
   ]
  },
  {
   "cell_type": "code",
   "execution_count": 98,
   "metadata": {},
   "outputs": [
    {
     "name": "stdout",
     "output_type": "stream",
     "text": [
      "KfoldCrossVal mean score using SVM is 0.9309308338720104\n",
      "Accuracy score using SVM is 0.9433962264150944\n"
     ]
    }
   ],
   "source": [
    "print(\"KfoldCrossVal mean score using SVM is %s\" %cross_val_score(svc2,X,y,cv=10).mean())\n",
    "#SVM metrics\n",
    "sm = svc2.fit(X_train, y_train)\n",
    "y_pred = sm.predict(X_test)\n",
    "print(\"Accuracy score using SVM is %s\" %metrics.accuracy_score(y_test, y_pred))"
   ]
  },
  {
   "cell_type": "markdown",
   "metadata": {},
   "source": [
    "<h4>Random Forests</h4>"
   ]
  },
  {
   "cell_type": "code",
   "execution_count": 77,
   "metadata": {},
   "outputs": [
    {
     "name": "stdout",
     "output_type": "stream",
     "text": [
      "KfoldCrossVal mean score using Random Forest is 0.9438421522455137\n",
      "Accuracy score using Random Forest is 0.9449056603773585\n"
     ]
    }
   ],
   "source": [
    "RF = RandomForestClassifier(random_state = 42, \n",
    "                                criterion='gini',\n",
    "                                n_estimators = 500,\n",
    "                                max_features = 2)\n",
    "                                \n",
    "# Random Forest cross validation\n",
    "\n",
    "print(\"KfoldCrossVal mean score using Random Forest is %s\" %cross_val_score(RF,X,y,cv=10).mean())\n",
    "\n",
    "# Random Forest metrics\n",
    "sm = RF.fit(X_train, y_train)\n",
    "\n",
    "y_pred = sm.predict(X_test)\n",
    "print(\"Accuracy score using Random Forest is %s\" %metrics.accuracy_score(y_test, y_pred))"
   ]
  },
  {
   "cell_type": "code",
   "execution_count": 109,
   "metadata": {},
   "outputs": [
    {
     "name": "stdout",
     "output_type": "stream",
     "text": [
      "KfoldCrossVal mean score using Random Forest is 0.9438416392197903\n",
      "Accuracy score using Random Forest is 0.9449056603773585\n"
     ]
    }
   ],
   "source": [
    "RF2 = RandomForestClassifier(random_state = 42, \n",
    "                                criterion='gini',\n",
    "                                n_estimators = 10,\n",
    "                                max_features = 2)\n",
    "                                \n",
    "# Random Forest cross validation\n",
    "\n",
    "print(\"KfoldCrossVal mean score using Random Forest is %s\" %cross_val_score(RF2,X,y,cv=10).mean())\n",
    "\n",
    "# Random Forest metrics\n",
    "sm = RF2.fit(X_train, y_train)\n",
    "\n",
    "y_pred = sm.predict(X_test)\n",
    "print(\"Accuracy score using Random Forest is %s\" %metrics.accuracy_score(y_test, y_pred))"
   ]
  },
  {
   "cell_type": "markdown",
   "metadata": {},
   "source": [
    "<h4>MultiLayer Perceptrons</h4>"
   ]
  },
  {
   "cell_type": "code",
   "execution_count": 81,
   "metadata": {},
   "outputs": [
    {
     "name": "stdout",
     "output_type": "stream",
     "text": [
      "Iteration 1, loss = 0.48428258\n",
      "Iteration 2, loss = 0.37117740\n",
      "Iteration 3, loss = 0.30601485\n",
      "Iteration 4, loss = 0.27037628\n",
      "Iteration 5, loss = 0.24835928\n",
      "Iteration 6, loss = 0.23500792\n",
      "Iteration 7, loss = 0.22418185\n",
      "Iteration 8, loss = 0.21812888\n",
      "Iteration 9, loss = 0.21146023\n",
      "Iteration 10, loss = 0.20647166\n",
      "Iteration 1, loss = 0.47046896\n",
      "Iteration 2, loss = 0.34043728"
     ]
    },
    {
     "name": "stderr",
     "output_type": "stream",
     "text": [
      "C:\\Users\\t0912\\Anaconda3\\lib\\site-packages\\sklearn\\neural_network\\multilayer_perceptron.py:564: ConvergenceWarning: Stochastic Optimizer: Maximum iterations (10) reached and the optimization hasn't converged yet.\n",
      "  % self.max_iter, ConvergenceWarning)\n",
      "C:\\Users\\t0912\\Anaconda3\\lib\\site-packages\\sklearn\\neural_network\\multilayer_perceptron.py:564: ConvergenceWarning: Stochastic Optimizer: Maximum iterations (10) reached and the optimization hasn't converged yet.\n",
      "  % self.max_iter, ConvergenceWarning)\n"
     ]
    },
    {
     "name": "stdout",
     "output_type": "stream",
     "text": [
      "\n",
      "Iteration 3, loss = 0.28079359\n",
      "Iteration 4, loss = 0.24936253\n",
      "Iteration 5, loss = 0.23243876\n",
      "Iteration 6, loss = 0.22123136\n",
      "Iteration 7, loss = 0.21283718\n",
      "Iteration 8, loss = 0.20752964\n",
      "Iteration 9, loss = 0.20144300\n",
      "Iteration 10, loss = 0.19770587\n",
      "Iteration 1, loss = 0.47034278\n",
      "Iteration 2, loss = 0.33779363\n",
      "Iteration 3, loss = 0.27697227\n",
      "Iteration 4, loss = 0.24523207\n",
      "Iteration 5, loss = 0.22858681\n",
      "Iteration 6, loss = 0.21725034\n",
      "Iteration 7, loss = 0.20845780\n",
      "Iteration 8, loss = 0.20319445\n",
      "Iteration 9, loss = 0.19800574\n",
      "Iteration 10, loss = 0.19331712\n",
      "Iteration 1, loss = 0.46934695\n",
      "Iteration 2, loss = 0.33809703\n",
      "Iteration 3, loss = 0.27813588\n",
      "Iteration 4, loss = 0.24678048\n",
      "Iteration 5, loss = 0.23015296\n",
      "Iteration 6, loss = 0.21792103\n",
      "Iteration 7, loss = 0.20977984"
     ]
    },
    {
     "name": "stderr",
     "output_type": "stream",
     "text": [
      "C:\\Users\\t0912\\Anaconda3\\lib\\site-packages\\sklearn\\neural_network\\multilayer_perceptron.py:564: ConvergenceWarning: Stochastic Optimizer: Maximum iterations (10) reached and the optimization hasn't converged yet.\n",
      "  % self.max_iter, ConvergenceWarning)\n",
      "C:\\Users\\t0912\\Anaconda3\\lib\\site-packages\\sklearn\\neural_network\\multilayer_perceptron.py:564: ConvergenceWarning: Stochastic Optimizer: Maximum iterations (10) reached and the optimization hasn't converged yet.\n",
      "  % self.max_iter, ConvergenceWarning)\n"
     ]
    },
    {
     "name": "stdout",
     "output_type": "stream",
     "text": [
      "\n",
      "Iteration 8, loss = 0.20489155\n",
      "Iteration 9, loss = 0.19886067\n",
      "Iteration 10, loss = 0.19417284\n",
      "Iteration 1, loss = 0.47208491\n",
      "Iteration 2, loss = 0.34188170\n",
      "Iteration 3, loss = 0.28296212\n",
      "Iteration 4, loss = 0.25213797\n",
      "Iteration 5, loss = 0.23540050\n",
      "Iteration 6, loss = 0.22320656\n",
      "Iteration 7, loss = 0.21495235\n",
      "Iteration 8, loss = 0.20959308\n",
      "Iteration 9, loss = 0.20382207\n",
      "Iteration 10, loss = 0.19944450\n",
      "Iteration 1, loss = 0.47104878\n",
      "Iteration 2, loss = 0.34291360\n",
      "Iteration 3, loss = 0.28314026\n",
      "Iteration 4, loss = 0.25252964\n",
      "Iteration 5, loss = 0.23548970\n",
      "Iteration 6, loss = 0.22333683\n",
      "Iteration 7, loss = 0.21427867\n",
      "Iteration 8, loss = 0.20938407\n",
      "Iteration 9, loss = 0.20277036\n",
      "Iteration 10, loss = 0.19900449\n"
     ]
    },
    {
     "name": "stderr",
     "output_type": "stream",
     "text": [
      "C:\\Users\\t0912\\Anaconda3\\lib\\site-packages\\sklearn\\neural_network\\multilayer_perceptron.py:564: ConvergenceWarning: Stochastic Optimizer: Maximum iterations (10) reached and the optimization hasn't converged yet.\n",
      "  % self.max_iter, ConvergenceWarning)\n",
      "C:\\Users\\t0912\\Anaconda3\\lib\\site-packages\\sklearn\\neural_network\\multilayer_perceptron.py:564: ConvergenceWarning: Stochastic Optimizer: Maximum iterations (10) reached and the optimization hasn't converged yet.\n",
      "  % self.max_iter, ConvergenceWarning)\n"
     ]
    },
    {
     "name": "stdout",
     "output_type": "stream",
     "text": [
      "Iteration 1, loss = 0.46953235\n",
      "Iteration 2, loss = 0.34187607\n",
      "Iteration 3, loss = 0.28240876\n",
      "Iteration 4, loss = 0.25141484\n",
      "Iteration 5, loss = 0.23479055\n",
      "Iteration 6, loss = 0.22236462\n",
      "Iteration 7, loss = 0.21353398\n",
      "Iteration 8, loss = 0.20814202\n",
      "Iteration 9, loss = 0.20214582\n",
      "Iteration 10, loss = 0.19940823\n",
      "Iteration 1, loss = 0.46765404\n",
      "Iteration 2, loss = 0.33911275\n",
      "Iteration 3, loss = 0.27725358\n",
      "Iteration 4, loss = 0.24691957\n",
      "Iteration 5, loss = 0.22964599\n",
      "Iteration 6, loss = 0.21780406\n",
      "Iteration 7, loss = 0.20984074\n",
      "Iteration 8, loss = 0.20350838\n",
      "Iteration 9, loss = 0.19923645\n",
      "Iteration 10, loss = 0.19565788"
     ]
    },
    {
     "name": "stderr",
     "output_type": "stream",
     "text": [
      "C:\\Users\\t0912\\Anaconda3\\lib\\site-packages\\sklearn\\neural_network\\multilayer_perceptron.py:564: ConvergenceWarning: Stochastic Optimizer: Maximum iterations (10) reached and the optimization hasn't converged yet.\n",
      "  % self.max_iter, ConvergenceWarning)\n"
     ]
    },
    {
     "name": "stdout",
     "output_type": "stream",
     "text": [
      "\n",
      "Iteration 1, loss = 0.46938473\n",
      "Iteration 2, loss = 0.34186988\n",
      "Iteration 3, loss = 0.28147627\n",
      "Iteration 4, loss = 0.25141243\n",
      "Iteration 5, loss = 0.23417139\n",
      "Iteration 6, loss = 0.22213075\n",
      "Iteration 7, loss = 0.21363749\n",
      "Iteration 8, loss = 0.20745183\n",
      "Iteration 9, loss = 0.20264678\n",
      "Iteration 10, loss = 0.19926719\n",
      "Iteration 1, loss = 0.47084849\n",
      "Iteration 2, loss = 0.34530852\n",
      "Iteration 3, loss = 0.28576863\n",
      "Iteration 4, loss = 0.25595182\n",
      "Iteration 5, loss = 0.23803970\n",
      "Iteration 6, loss = 0.22662814\n",
      "Iteration 7, loss = 0.21819022"
     ]
    },
    {
     "name": "stderr",
     "output_type": "stream",
     "text": [
      "C:\\Users\\t0912\\Anaconda3\\lib\\site-packages\\sklearn\\neural_network\\multilayer_perceptron.py:564: ConvergenceWarning: Stochastic Optimizer: Maximum iterations (10) reached and the optimization hasn't converged yet.\n",
      "  % self.max_iter, ConvergenceWarning)\n",
      "C:\\Users\\t0912\\Anaconda3\\lib\\site-packages\\sklearn\\neural_network\\multilayer_perceptron.py:564: ConvergenceWarning: Stochastic Optimizer: Maximum iterations (10) reached and the optimization hasn't converged yet.\n",
      "  % self.max_iter, ConvergenceWarning)\n",
      "C:\\Users\\t0912\\Anaconda3\\lib\\site-packages\\sklearn\\neural_network\\multilayer_perceptron.py:564: ConvergenceWarning: Stochastic Optimizer: Maximum iterations (10) reached and the optimization hasn't converged yet.\n",
      "  % self.max_iter, ConvergenceWarning)\n"
     ]
    },
    {
     "name": "stdout",
     "output_type": "stream",
     "text": [
      "\n",
      "Iteration 8, loss = 0.21186804\n",
      "Iteration 9, loss = 0.20682716\n",
      "Iteration 10, loss = 0.20382248\n",
      "Iteration 1, loss = 0.47042189\n",
      "Iteration 2, loss = 0.33965533\n",
      "Iteration 3, loss = 0.27883110\n",
      "Iteration 4, loss = 0.24878391\n",
      "Iteration 5, loss = 0.23120413\n",
      "Iteration 6, loss = 0.21970663\n",
      "Iteration 7, loss = 0.21118114\n",
      "Iteration 8, loss = 0.20490518\n",
      "Iteration 9, loss = 0.19981196\n",
      "Iteration 10, loss = 0.19588952\n",
      "KfoldCrossVal mean score using MLP is 0.9429361488185017\n",
      "Accuracy score using MLP is 0.9358490566037736\n",
      "Training set score: 0.938208\n",
      "Test set score: 0.935849\n"
     ]
    },
    {
     "name": "stderr",
     "output_type": "stream",
     "text": [
      "C:\\Users\\t0912\\Anaconda3\\lib\\site-packages\\sklearn\\neural_network\\multilayer_perceptron.py:564: ConvergenceWarning: Stochastic Optimizer: Maximum iterations (10) reached and the optimization hasn't converged yet.\n",
      "  % self.max_iter, ConvergenceWarning)\n"
     ]
    }
   ],
   "source": [
    "from sklearn.neural_network import MLPClassifier\n",
    "\n",
    "mlp = MLPClassifier(hidden_layer_sizes=(50,), max_iter=10, alpha=1e-4,\n",
    "                    solver='sgd', verbose=10, tol=1e-4, random_state=1,\n",
    "                    learning_rate_init=.01)\n",
    "\n",
    "clf = mlp.fit(X_train, y_train)\n",
    "\n",
    "print(\"KfoldCrossVal mean score using MLP is %s\" %cross_val_score(mlp,X,y,cv=10).mean())\n",
    "\n",
    "y_pred = clf.predict(X_test)\n",
    "print(\"Accuracy score using MLP is %s\" %metrics.accuracy_score(y_test, y_pred))\n",
    "\n",
    "print(\"Training set score: %f\" % mlp.score(X_train, y_train))\n",
    "print(\"Test set score: %f\" % mlp.score(X_test, y_test))"
   ]
  },
  {
   "cell_type": "code",
   "execution_count": 84,
   "metadata": {},
   "outputs": [
    {
     "name": "stdout",
     "output_type": "stream",
     "text": [
      "Iteration 1, loss = 0.39764507\n",
      "Iteration 2, loss = 0.20852391\n",
      "Iteration 3, loss = 0.18630052\n",
      "Iteration 4, loss = 0.16931775\n",
      "Iteration 5, loss = 0.15876751\n",
      "Iteration 6, loss = 0.15540822\n",
      "Iteration 7, loss = 0.15294286\n",
      "Iteration 8, loss = 0.15317221\n",
      "Iteration 9, loss = 0.15230190\n",
      "Iteration 10, loss = 0.14962868\n",
      "Iteration 1, loss = 0.35326885\n",
      "Iteration 2, loss = 0.21375628"
     ]
    },
    {
     "name": "stderr",
     "output_type": "stream",
     "text": [
      "C:\\Users\\t0912\\Anaconda3\\lib\\site-packages\\sklearn\\neural_network\\multilayer_perceptron.py:564: ConvergenceWarning: Stochastic Optimizer: Maximum iterations (10) reached and the optimization hasn't converged yet.\n",
      "  % self.max_iter, ConvergenceWarning)\n",
      "C:\\Users\\t0912\\Anaconda3\\lib\\site-packages\\sklearn\\neural_network\\multilayer_perceptron.py:564: ConvergenceWarning: Stochastic Optimizer: Maximum iterations (10) reached and the optimization hasn't converged yet.\n",
      "  % self.max_iter, ConvergenceWarning)\n"
     ]
    },
    {
     "name": "stdout",
     "output_type": "stream",
     "text": [
      "\n",
      "Iteration 3, loss = 0.18836901\n",
      "Iteration 4, loss = 0.15963434\n",
      "Iteration 5, loss = 0.15290776\n",
      "Iteration 6, loss = 0.14819253\n",
      "Iteration 7, loss = 0.15353139\n",
      "Iteration 8, loss = 0.14575218\n",
      "Iteration 9, loss = 0.14561407\n",
      "Iteration 10, loss = 0.14572005\n",
      "Iteration 1, loss = 0.34580556\n",
      "Iteration 2, loss = 0.21326192\n",
      "Iteration 3, loss = 0.18089850\n",
      "Iteration 4, loss = 0.15992150\n",
      "Iteration 5, loss = 0.15338927\n",
      "Iteration 6, loss = 0.14713670\n",
      "Iteration 7, loss = 0.14901884\n",
      "Iteration 8, loss = 0.14631501\n",
      "Iteration 9, loss = 0.14389592\n",
      "Iteration 10, loss = 0.14341116\n",
      "Iteration 1, loss = 0.35839557\n",
      "Iteration 2, loss = 0.20330467\n",
      "Iteration 3, loss = 0.17141158\n",
      "Iteration 4, loss = 0.15554142"
     ]
    },
    {
     "name": "stderr",
     "output_type": "stream",
     "text": [
      "C:\\Users\\t0912\\Anaconda3\\lib\\site-packages\\sklearn\\neural_network\\multilayer_perceptron.py:564: ConvergenceWarning: Stochastic Optimizer: Maximum iterations (10) reached and the optimization hasn't converged yet.\n",
      "  % self.max_iter, ConvergenceWarning)\n"
     ]
    },
    {
     "name": "stdout",
     "output_type": "stream",
     "text": [
      "\n",
      "Iteration 5, loss = 0.15466133\n",
      "Iteration 6, loss = 0.14713880\n",
      "Iteration 7, loss = 0.14736110\n",
      "Iteration 8, loss = 0.14961258\n",
      "Iteration 9, loss = 0.14797243\n",
      "Training loss did not improve more than tol=0.000100 for two consecutive epochs. Stopping.\n",
      "Iteration 1, loss = 0.36295334\n",
      "Iteration 2, loss = 0.20649874\n",
      "Iteration 3, loss = 0.17419797\n",
      "Iteration 4, loss = 0.15992772\n",
      "Iteration 5, loss = 0.15668512\n",
      "Iteration 6, loss = 0.15291415\n",
      "Iteration 7, loss = 0.15172094\n",
      "Iteration 8, loss = 0.15405323\n",
      "Iteration 9, loss = 0.15132549\n",
      "Iteration 10, loss = 0.15264785\n",
      "Iteration 1, loss = 0.35897268\n",
      "Iteration 2, loss = 0.20314855\n",
      "Iteration 3, loss = 0.17132584\n",
      "Iteration 4, loss = 0.15900338\n",
      "Iteration 5, loss = 0.15772191\n",
      "Iteration 6, loss = 0.15368030"
     ]
    },
    {
     "name": "stderr",
     "output_type": "stream",
     "text": [
      "C:\\Users\\t0912\\Anaconda3\\lib\\site-packages\\sklearn\\neural_network\\multilayer_perceptron.py:564: ConvergenceWarning: Stochastic Optimizer: Maximum iterations (10) reached and the optimization hasn't converged yet.\n",
      "  % self.max_iter, ConvergenceWarning)\n"
     ]
    },
    {
     "name": "stdout",
     "output_type": "stream",
     "text": [
      "\n",
      "Iteration 7, loss = 0.14861285\n",
      "Iteration 8, loss = 0.15066275\n",
      "Iteration 9, loss = 0.14931569\n",
      "Iteration 10, loss = 0.15230264\n",
      "Training loss did not improve more than tol=0.000100 for two consecutive epochs. Stopping.\n",
      "Iteration 1, loss = 0.35909290\n",
      "Iteration 2, loss = 0.19759600\n",
      "Iteration 3, loss = 0.17311223\n",
      "Iteration 4, loss = 0.16535949\n",
      "Iteration 5, loss = 0.15879462\n",
      "Iteration 6, loss = 0.15479281\n",
      "Iteration 7, loss = 0.15235685\n",
      "Iteration 8, loss = 0.15225990\n",
      "Iteration 9, loss = 0.15238936\n",
      "Iteration 10, loss = 0.16723917\n",
      "Training loss did not improve more than tol=0.000100 for two consecutive epochs. Stopping.\n",
      "Iteration 1, loss = 0.36100378\n",
      "Iteration 2, loss = 0.19064378\n",
      "Iteration 3, loss = 0.17118643\n",
      "Iteration 4, loss = 0.15890930\n",
      "Iteration 5, loss = 0.15661171\n",
      "Iteration 6, loss = 0.14906418\n",
      "Iteration 7, loss = 0.14622489\n",
      "Iteration 8, loss = 0.14900862\n",
      "Iteration 9, loss = 0.14739827\n",
      "Iteration 10, loss = 0.14560692\n",
      "Iteration 1, loss = 0.36736858\n",
      "Iteration 2, loss = 0.19135753\n",
      "Iteration 3, loss = 0.17483063\n",
      "Iteration 4, loss = 0.16239305\n",
      "Iteration 5, loss = 0.16300696\n",
      "Iteration 6, loss = 0.15376245\n",
      "Iteration 7, loss = 0.15019858"
     ]
    },
    {
     "name": "stderr",
     "output_type": "stream",
     "text": [
      "C:\\Users\\t0912\\Anaconda3\\lib\\site-packages\\sklearn\\neural_network\\multilayer_perceptron.py:564: ConvergenceWarning: Stochastic Optimizer: Maximum iterations (10) reached and the optimization hasn't converged yet.\n",
      "  % self.max_iter, ConvergenceWarning)\n"
     ]
    },
    {
     "name": "stdout",
     "output_type": "stream",
     "text": [
      "\n",
      "Iteration 8, loss = 0.15165201\n",
      "Iteration 9, loss = 0.15168792\n",
      "Iteration 10, loss = 0.14961230\n",
      "Iteration 1, loss = 0.36617664\n",
      "Iteration 2, loss = 0.20082914\n",
      "Iteration 3, loss = 0.18005915\n",
      "Iteration 4, loss = 0.16670973\n",
      "Iteration 5, loss = 0.16125137\n",
      "Iteration 6, loss = 0.16216723\n",
      "Iteration 7, loss = 0.15343209\n",
      "Iteration 8, loss = 0.15472015"
     ]
    },
    {
     "name": "stderr",
     "output_type": "stream",
     "text": [
      "C:\\Users\\t0912\\Anaconda3\\lib\\site-packages\\sklearn\\neural_network\\multilayer_perceptron.py:564: ConvergenceWarning: Stochastic Optimizer: Maximum iterations (10) reached and the optimization hasn't converged yet.\n",
      "  % self.max_iter, ConvergenceWarning)\n"
     ]
    },
    {
     "name": "stdout",
     "output_type": "stream",
     "text": [
      "\n",
      "Iteration 9, loss = 0.15542996\n",
      "Iteration 10, loss = 0.15289709\n",
      "Iteration 1, loss = 0.37384429\n",
      "Iteration 2, loss = 0.19236873\n",
      "Iteration 3, loss = 0.17694737\n",
      "Iteration 4, loss = 0.15802162\n",
      "Iteration 5, loss = 0.15328031"
     ]
    },
    {
     "name": "stderr",
     "output_type": "stream",
     "text": [
      "C:\\Users\\t0912\\Anaconda3\\lib\\site-packages\\sklearn\\neural_network\\multilayer_perceptron.py:564: ConvergenceWarning: Stochastic Optimizer: Maximum iterations (10) reached and the optimization hasn't converged yet.\n",
      "  % self.max_iter, ConvergenceWarning)\n"
     ]
    },
    {
     "name": "stdout",
     "output_type": "stream",
     "text": [
      "\n",
      "Iteration 6, loss = 0.15436479\n",
      "Iteration 7, loss = 0.14871018\n",
      "Iteration 8, loss = 0.14896964\n",
      "Iteration 9, loss = 0.14842985\n",
      "Iteration 10, loss = 0.14535980\n",
      "KfoldCrossVal mean score using MLP is 0.9429382009213942\n",
      "Accuracy score using MLP is 0.9139622641509434\n"
     ]
    },
    {
     "name": "stderr",
     "output_type": "stream",
     "text": [
      "C:\\Users\\t0912\\Anaconda3\\lib\\site-packages\\sklearn\\neural_network\\multilayer_perceptron.py:564: ConvergenceWarning: Stochastic Optimizer: Maximum iterations (10) reached and the optimization hasn't converged yet.\n",
      "  % self.max_iter, ConvergenceWarning)\n"
     ]
    }
   ],
   "source": [
    "mlp2 = MLPClassifier(hidden_layer_sizes=(50,), max_iter=10, alpha=1e-4,\n",
    "                    solver='sgd', verbose=10, tol=1e-4, random_state=1,\n",
    "                    learning_rate_init=.1)\n",
    "\n",
    "clf = mlp2.fit(X_train, y_train)\n",
    "\n",
    "print(\"KfoldCrossVal mean score using MLP is %s\" %cross_val_score(mlp2,X,y,cv=10).mean())\n",
    "\n",
    "y_pred = clf.predict(X_test)\n",
    "print(\"Accuracy score using MLP is %s\" %metrics.accuracy_score(y_test, y_pred))"
   ]
  },
  {
   "cell_type": "markdown",
   "metadata": {},
   "source": [
    "Q5 (20 Points) What is the difference between bagging, boosting and stacking?\n",
    "In python, show an example of bagging, boosting and stacking.\n",
    "\n",
    "Do gradient-boosted trees, and random forests use bagging, boosting or stacking?\n",
    "If so, how do gradient-boosted trees differ from random forests?\n",
    "\n",
    "Create a meta-algorithm to implement a stacked ensemble super-learner in python. It must use at least\n",
    "three base learners.\n",
    "Did your super-learner help?\n",
    "\n",
    "1. Ensemble methods are meta-algorithms that combine several machine learning techniques into one predictive model in order to decrease variance (bagging), decrease bias (boosting), or improve predictions (stacking).\n",
    "\n",
    "2. Random Forest is a bagging algorithm, and gradient-boosted trees is boosting.\n",
    "Gradient-boosted trees have a few hyperparams to tune, while random forest is practically tuning-free.\n",
    "\n",
    "In 2005, Caruana et al. concluded that:\n",
    "\"With excellent performance on all eight metrics, calibrated boosted trees were the best learning algorithm overall. Random forests are close second.\"\n",
    "\n",
    "3. Since the accuracy is already pretty high(0.94), the stacked ensemble super-learner might help but do not have much impact in this case.\n",
    "\n",
    "Reference: \n",
    "\n",
    "https://github.com/vsmolyakov/experiments_with_python/blob/master/chp01/ensemble_methods.ipynb\n",
    "\n",
    "http://fastml.com/what-is-better-gradient-boosted-trees-or-random-forest/"
   ]
  },
  {
   "cell_type": "code",
   "execution_count": 6,
   "metadata": {},
   "outputs": [],
   "source": [
    "gamedata_oneside = pd.DataFrame(gamedata, index=gamedata.index, columns=['winner','t1_towerKills','t1_inhibitorKills','t1_baronKills','t1_dragonKills','t1_riftHeraldKills'])"
   ]
  },
  {
   "cell_type": "code",
   "execution_count": 7,
   "metadata": {},
   "outputs": [],
   "source": [
    "X = gamedata_oneside[['t1_inhibitorKills','t1_towerKills']]\n",
    "y = gamedata_oneside.winner\n",
    "\n",
    "X = X.values\n",
    "y = y.values"
   ]
  },
  {
   "cell_type": "code",
   "execution_count": 1,
   "metadata": {},
   "outputs": [],
   "source": [
    "%matplotlib inline\n",
    "\n",
    "import itertools\n",
    "import numpy as np\n",
    "\n",
    "import seaborn as sns\n",
    "import matplotlib.pyplot as plt\n",
    "import matplotlib.gridspec as gridspec\n",
    "\n",
    "from sklearn import datasets\n",
    "\n",
    "from sklearn.tree import DecisionTreeClassifier\n",
    "from sklearn.neighbors import KNeighborsClassifier\n",
    "from sklearn.linear_model import LogisticRegression\n",
    "from sklearn.ensemble import RandomForestClassifier\n",
    "from sklearn.neural_network import MLPClassifier\n",
    "from sklearn.naive_bayes import GaussianNB \n",
    "\n",
    "from sklearn.ensemble import BaggingClassifier\n",
    "from sklearn.ensemble import AdaBoostClassifier\n",
    "from mlxtend.classifier import StackingClassifier\n",
    "from sklearn.model_selection import cross_val_score, train_test_split\n",
    "\n",
    "from mlxtend.plotting import plot_learning_curves"
   ]
  },
  {
   "cell_type": "markdown",
   "metadata": {},
   "source": [
    "<h4>Bagging</h4>"
   ]
  },
  {
   "cell_type": "code",
   "execution_count": 6,
   "metadata": {},
   "outputs": [],
   "source": [
    "clf1 = DecisionTreeClassifier(criterion='entropy', max_depth=1)\n",
    "clf2 = KNeighborsClassifier(n_neighbors=1)    \n",
    "\n",
    "bagging1 = BaggingClassifier(base_estimator=clf1, n_estimators=10, max_samples=0.8, max_features=0.8)\n",
    "bagging2 = BaggingClassifier(base_estimator=clf2, n_estimators=10, max_samples=0.8, max_features=0.8)"
   ]
  },
  {
   "cell_type": "code",
   "execution_count": 9,
   "metadata": {},
   "outputs": [
    {
     "name": "stdout",
     "output_type": "stream",
     "text": [
      "Accuracy: 0.94 (+/- 0.01) Decision Tree\n",
      "Accuracy: 0.91 (+/- 0.04) K-NN\n",
      "Accuracy: 0.94 (+/- 0.01) Bagging Tree\n",
      "Accuracy: 0.93 (+/- 0.01) Bagging K-NN\n"
     ]
    },
    {
     "data": {
      "image/png": "[encoded data removed]",
      "text/plain": [
       "<Figure size 720x576 with 4 Axes>"
      ]
     },
     "metadata": {},
     "output_type": "display_data"
    }
   ],
   "source": [
    "label = ['Decision Tree', 'K-NN', 'Bagging Tree', 'Bagging K-NN']\n",
    "clf_list = [clf1, clf2, bagging1, bagging2]\n",
    "\n",
    "fig = plt.figure(figsize=(10, 8))\n",
    "gs = gridspec.GridSpec(2, 2)\n",
    "grid = itertools.product([0,1],repeat=2)\n",
    "\n",
    "for clf, label, grd in zip(clf_list, label, grid):        \n",
    "    scores = cross_val_score(clf, X, y, cv=3, scoring='accuracy')\n",
    "    print(\"Accuracy: %0.2f (+/- %0.2f)\" % (scores.mean(), scores.std() * 2), label)    \n",
    "    clf.fit(X, y)\n",
    "    ax = plt.subplot(gs[grd[0], grd[1]])\n",
    "    fig = plot_decision_regions(X=X, y=y, clf=clf, legend=2)\n",
    "    plt.title(label)\n",
    "\n",
    "plt.show()"
   ]
  },
  {
   "cell_type": "markdown",
   "metadata": {},
   "source": [
    "<h4>Boosting</h4>"
   ]
  },
  {
   "cell_type": "code",
   "execution_count": 20,
   "metadata": {},
   "outputs": [],
   "source": [
    "clf = DecisionTreeClassifier(criterion='entropy', max_depth=1)\n",
    "\n",
    "num_est = [1, 3, 5, 10]\n",
    "label = ['AdaBoost (n_est=1)', 'AdaBoost (n_est=3)', 'AdaBoost (n_est=5)', 'AdaBoost (n_est=10)']"
   ]
  },
  {
   "cell_type": "code",
   "execution_count": 21,
   "metadata": {},
   "outputs": [
    {
     "data": {
      "image/png": "[encoded data removed]",
      "text/plain": [
       "<Figure size 720x576 with 4 Axes>"
      ]
     },
     "metadata": {},
     "output_type": "display_data"
    }
   ],
   "source": [
    "fig = plt.figure(figsize=(10, 8))\n",
    "gs = gridspec.GridSpec(2, 2)\n",
    "grid = itertools.product([0,1],repeat=2)\n",
    "\n",
    "for n_est, label, grd in zip(num_est, label, grid):     \n",
    "    boosting = AdaBoostClassifier(base_estimator=clf, n_estimators=n_est)   \n",
    "    boosting.fit(X, y)\n",
    "    ax = plt.subplot(gs[grd[0], grd[1]])\n",
    "    fig = plot_decision_regions(X=X, y=y, clf=boosting, legend=2)\n",
    "    plt.title(label)\n",
    "\n",
    "plt.show()"
   ]
  },
  {
   "cell_type": "markdown",
   "metadata": {},
   "source": [
    "<h4>Stacking</h4>"
   ]
  },
  {
   "cell_type": "code",
   "execution_count": 11,
   "metadata": {},
   "outputs": [],
   "source": [
    "clf1 = KNeighborsClassifier(n_neighbors=1)\n",
    "clf2 = RandomForestClassifier(random_state=1)\n",
    "# clf3 = GaussianNB()\n",
    "# clf3 = DecisionTreeClassifier()\n",
    "clf3 = MLPClassifier(solver='lbfgs', alpha=1e-5,hidden_layer_sizes=(5, 5), random_state=1)\n",
    "lr = LogisticRegression()\n",
    "sclf = StackingClassifier(classifiers=[clf1, clf2, clf3], \n",
    "                          meta_classifier=lr)"
   ]
  },
  {
   "cell_type": "code",
   "execution_count": 12,
   "metadata": {},
   "outputs": [
    {
     "name": "stdout",
     "output_type": "stream",
     "text": [
      "Accuracy: 0.91 (+/- 0.04) KNN\n",
      "Accuracy: 0.94 (+/- 0.01) Random Forest\n",
      "Accuracy: 0.94 (+/- 0.01) neural_network\n",
      "Accuracy: 0.94 (+/- 0.01) Stacking Classifier\n"
     ]
    },
    {
     "data": {
      "image/png": "[encoded data removed]",
      "text/plain": [
       "<Figure size 720x576 with 4 Axes>"
      ]
     },
     "metadata": {},
     "output_type": "display_data"
    }
   ],
   "source": [
    "label = ['KNN', 'Random Forest', 'neural_network', 'Stacking Classifier']\n",
    "clf_list = [clf1, clf2, clf3, sclf]\n",
    "    \n",
    "fig = plt.figure(figsize=(10,8))\n",
    "gs = gridspec.GridSpec(2, 2)\n",
    "grid = itertools.product([0,1],repeat=2)\n",
    "\n",
    "clf_cv_mean = []\n",
    "clf_cv_std = []\n",
    "for clf, label, grd in zip(clf_list, label, grid):\n",
    "        \n",
    "    scores = cross_val_score(clf, X, y, cv=3, scoring='accuracy')\n",
    "    print(\"Accuracy: %0.2f (+/- %0.2f)\" % (scores.mean(), scores.std() * 2), label) \n",
    "    clf_cv_mean.append(scores.mean())\n",
    "    clf_cv_std.append(scores.std())\n",
    "        \n",
    "    clf.fit(X, y)\n",
    "    ax = plt.subplot(gs[grd[0], grd[1]])\n",
    "    fig = plot_decision_regions(X=X, y=y, clf=clf)\n",
    "    plt.title(label)\n",
    "\n",
    "plt.show()"
   ]
  },
  {
   "cell_type": "code",
   "execution_count": null,
   "metadata": {},
   "outputs": [],
   "source": []
  }
 ],
 "metadata": {
  "kernelspec": {
   "display_name": "Python 3",
   "language": "python",
   "name": "python3"
  },
  "language_info": {
   "codemirror_mode": {
    "name": "ipython",
    "version": 3
   },
   "file_extension": ".py",
   "mimetype": "text/x-python",
   "name": "python",
   "nbconvert_exporter": "python",
   "pygments_lexer": "ipython3",
   "version": "3.6.4"
  }
 },
 "nbformat": 4,
 "nbformat_minor": 2
}
